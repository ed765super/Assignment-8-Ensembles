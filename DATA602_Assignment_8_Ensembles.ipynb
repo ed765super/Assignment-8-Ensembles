{
  "nbformat": 4,
  "nbformat_minor": 0,
  "metadata": {
    "colab": {
      "name": "DATA602 Assignment 8 Ensembles.ipynb",
      "provenance": []
    },
    "kernelspec": {
      "name": "python3",
      "display_name": "Python 3"
    },
    "language_info": {
      "name": "python"
    }
  },
  "cells": [
    {
      "cell_type": "markdown",
      "metadata": {
        "id": "ajqKUCmhV_mD"
      },
      "source": [
        "#Instructions\n",
        "Using attached file: flight-data.csv\n",
        "\n",
        "\n",
        "Analyze the data and create a processing pipeline. We are interested if we can predict whether a flight gets delayed or not (arr_delay).\n",
        "\n",
        "Fit a logistic regression, decision tree, and SVM using grid search. \n",
        "\n",
        "Discuss the performance of each model.\n",
        "\n",
        "Fit an ensemble using the three above models. Does this improvement performance?\n",
        "\n",
        "Fit a model using AdaBoost. Does this improve performance?\n",
        "\n",
        "\n",
        "Submit a link to the GitHub repo where you post the notebook."
      ]
    },
    {
      "cell_type": "markdown",
      "metadata": {
        "id": "anLT6XTEWjJR"
      },
      "source": [
        "#Analyze the data and create a processing pipeline."
      ]
    },
    {
      "cell_type": "code",
      "metadata": {
        "id": "HOUeZYHMW8Yx"
      },
      "source": [
        ""
      ],
      "execution_count": null,
      "outputs": []
    },
    {
      "cell_type": "markdown",
      "metadata": {
        "id": "E1y2SJynWpzW"
      },
      "source": [
        "#Fit a logistic regression, decision tree, and SVM using grid search."
      ]
    },
    {
      "cell_type": "markdown",
      "metadata": {
        "id": "YSJHarB0WsKt"
      },
      "source": [
        "#Discuss the performance of each model."
      ]
    },
    {
      "cell_type": "markdown",
      "metadata": {
        "id": "PRbsFiCyWuyD"
      },
      "source": [
        "#Fit an ensemble using the three above models. Does this improvement performance?"
      ]
    },
    {
      "cell_type": "markdown",
      "metadata": {
        "id": "keKp6R4gWyiz"
      },
      "source": [
        "#Fit a model using AdaBoost. Does this improve performance?"
      ]
    }
  ]
}