{
  "nbformat": 4,
  "nbformat_minor": 0,
  "metadata": {
    "colab": {
      "name": "DATA602 Assignment 8 Ensembles.ipynb",
      "provenance": [],
      "authorship_tag": "ABX9TyPNXBdip494WpircCS8aj4W",
      "include_colab_link": true
    },
    "kernelspec": {
      "name": "python3",
      "display_name": "Python 3"
    },
    "language_info": {
      "name": "python"
    }
  },
  "cells": [
    {
      "cell_type": "markdown",
      "metadata": {
        "id": "view-in-github",
        "colab_type": "text"
      },
      "source": [
        "<a href=\"https://colab.research.google.com/github/ed765super/Assignment-8-Ensembles/blob/main/DATA602_Assignment_8_Ensembles.ipynb\" target=\"_parent\"><img src=\"https://colab.research.google.com/assets/colab-badge.svg\" alt=\"Open In Colab\"/></a>"
      ]
    },
    {
      "cell_type": "markdown",
      "metadata": {
        "id": "ajqKUCmhV_mD"
      },
      "source": [
        "#Instructions\n",
        "Using attached file: flight-data.csv\n",
        "\n",
        "\n",
        "Analyze the data and create a processing pipeline. We are interested if we can predict whether a flight gets delayed or not (arr_delay).\n",
        "\n",
        "Fit a logistic regression, decision tree, and SVM using grid search. \n",
        "\n",
        "Discuss the performance of each model.\n",
        "\n",
        "Fit an ensemble using the three above models. Does this improvement performance?\n",
        "\n",
        "Fit a model using AdaBoost. Does this improve performance?\n",
        "\n",
        "\n",
        "Submit a link to the GitHub repo where you post the notebook."
      ]
    },
    {
      "cell_type": "markdown",
      "metadata": {
        "id": "VginIfaJX-oO"
      },
      "source": [
        "#Get Data"
      ]
    },
    {
      "cell_type": "code",
      "metadata": {
        "colab": {
          "base_uri": "https://localhost:8080/",
          "height": 840
        },
        "id": "rw1NhSf_YAao",
        "outputId": "4ed2d35e-3d86-49b1-cc88-5e488d8bd7ad"
      },
      "source": [
        "import pandas as pd\n",
        "import numpy as np\n",
        "df = pd.read_csv('flight-data.csv')\n",
        "\n",
        "df"
      ],
      "execution_count": 10,
      "outputs": [
        {
          "output_type": "execute_result",
          "data": {
            "text/html": [
              "<div>\n",
              "<style scoped>\n",
              "    .dataframe tbody tr th:only-of-type {\n",
              "        vertical-align: middle;\n",
              "    }\n",
              "\n",
              "    .dataframe tbody tr th {\n",
              "        vertical-align: top;\n",
              "    }\n",
              "\n",
              "    .dataframe thead th {\n",
              "        text-align: right;\n",
              "    }\n",
              "</style>\n",
              "<table border=\"1\" class=\"dataframe\">\n",
              "  <thead>\n",
              "    <tr style=\"text-align: right;\">\n",
              "      <th></th>\n",
              "      <th>carrier</th>\n",
              "      <th>flight</th>\n",
              "      <th>tailnum</th>\n",
              "      <th>origin</th>\n",
              "      <th>dest</th>\n",
              "      <th>air_time</th>\n",
              "      <th>distance</th>\n",
              "      <th>hour</th>\n",
              "      <th>minute</th>\n",
              "      <th>temp</th>\n",
              "      <th>dewp</th>\n",
              "      <th>humid</th>\n",
              "      <th>wind_dir</th>\n",
              "      <th>wind_speed</th>\n",
              "      <th>wind_gust</th>\n",
              "      <th>precip</th>\n",
              "      <th>pressure</th>\n",
              "      <th>visib</th>\n",
              "      <th>type</th>\n",
              "      <th>manufacturer</th>\n",
              "      <th>model</th>\n",
              "      <th>engines</th>\n",
              "      <th>seats</th>\n",
              "      <th>engine</th>\n",
              "      <th>arr_delay</th>\n",
              "    </tr>\n",
              "  </thead>\n",
              "  <tbody>\n",
              "    <tr>\n",
              "      <th>0</th>\n",
              "      <td>B6</td>\n",
              "      <td>1201</td>\n",
              "      <td>N643JB</td>\n",
              "      <td>JFK</td>\n",
              "      <td>FLL</td>\n",
              "      <td>135.0</td>\n",
              "      <td>1069</td>\n",
              "      <td>21</td>\n",
              "      <td>50</td>\n",
              "      <td>73.04</td>\n",
              "      <td>66.92</td>\n",
              "      <td>81.14</td>\n",
              "      <td>160.0</td>\n",
              "      <td>13.80936</td>\n",
              "      <td>19.56326</td>\n",
              "      <td>0.0</td>\n",
              "      <td>1019.4</td>\n",
              "      <td>10.0</td>\n",
              "      <td>Fixed wing multi engine</td>\n",
              "      <td>AIRBUS</td>\n",
              "      <td>A320-232</td>\n",
              "      <td>2.0</td>\n",
              "      <td>200.0</td>\n",
              "      <td>Turbo-fan</td>\n",
              "      <td>1.0</td>\n",
              "    </tr>\n",
              "    <tr>\n",
              "      <th>1</th>\n",
              "      <td>DL</td>\n",
              "      <td>1773</td>\n",
              "      <td>N3743H</td>\n",
              "      <td>JFK</td>\n",
              "      <td>LAS</td>\n",
              "      <td>287.0</td>\n",
              "      <td>2248</td>\n",
              "      <td>15</td>\n",
              "      <td>35</td>\n",
              "      <td>71.06</td>\n",
              "      <td>42.98</td>\n",
              "      <td>36.28</td>\n",
              "      <td>230.0</td>\n",
              "      <td>14.96014</td>\n",
              "      <td>NaN</td>\n",
              "      <td>0.0</td>\n",
              "      <td>1020.4</td>\n",
              "      <td>10.0</td>\n",
              "      <td>Fixed wing multi engine</td>\n",
              "      <td>BOEING</td>\n",
              "      <td>737-832</td>\n",
              "      <td>2.0</td>\n",
              "      <td>189.0</td>\n",
              "      <td>Turbo-jet</td>\n",
              "      <td>0.0</td>\n",
              "    </tr>\n",
              "    <tr>\n",
              "      <th>2</th>\n",
              "      <td>EV</td>\n",
              "      <td>4572</td>\n",
              "      <td>N11107</td>\n",
              "      <td>EWR</td>\n",
              "      <td>GSP</td>\n",
              "      <td>84.0</td>\n",
              "      <td>594</td>\n",
              "      <td>15</td>\n",
              "      <td>9</td>\n",
              "      <td>78.80</td>\n",
              "      <td>69.80</td>\n",
              "      <td>73.95</td>\n",
              "      <td>200.0</td>\n",
              "      <td>8.05546</td>\n",
              "      <td>NaN</td>\n",
              "      <td>0.0</td>\n",
              "      <td>NaN</td>\n",
              "      <td>5.0</td>\n",
              "      <td>Fixed wing multi engine</td>\n",
              "      <td>EMBRAER</td>\n",
              "      <td>EMB-145XR</td>\n",
              "      <td>2.0</td>\n",
              "      <td>55.0</td>\n",
              "      <td>Turbo-fan</td>\n",
              "      <td>1.0</td>\n",
              "    </tr>\n",
              "    <tr>\n",
              "      <th>3</th>\n",
              "      <td>B6</td>\n",
              "      <td>179</td>\n",
              "      <td>N526JB</td>\n",
              "      <td>JFK</td>\n",
              "      <td>PHX</td>\n",
              "      <td>305.0</td>\n",
              "      <td>2153</td>\n",
              "      <td>17</td>\n",
              "      <td>35</td>\n",
              "      <td>44.06</td>\n",
              "      <td>14.00</td>\n",
              "      <td>29.23</td>\n",
              "      <td>270.0</td>\n",
              "      <td>17.26170</td>\n",
              "      <td>24.16638</td>\n",
              "      <td>0.0</td>\n",
              "      <td>1009.2</td>\n",
              "      <td>10.0</td>\n",
              "      <td>NaN</td>\n",
              "      <td>NaN</td>\n",
              "      <td>NaN</td>\n",
              "      <td>NaN</td>\n",
              "      <td>NaN</td>\n",
              "      <td>NaN</td>\n",
              "      <td>1.0</td>\n",
              "    </tr>\n",
              "    <tr>\n",
              "      <th>4</th>\n",
              "      <td>US</td>\n",
              "      <td>1733</td>\n",
              "      <td>N162UW</td>\n",
              "      <td>LGA</td>\n",
              "      <td>CLT</td>\n",
              "      <td>78.0</td>\n",
              "      <td>544</td>\n",
              "      <td>7</td>\n",
              "      <td>53</td>\n",
              "      <td>69.98</td>\n",
              "      <td>53.96</td>\n",
              "      <td>56.78</td>\n",
              "      <td>230.0</td>\n",
              "      <td>6.90468</td>\n",
              "      <td>NaN</td>\n",
              "      <td>0.0</td>\n",
              "      <td>1021.3</td>\n",
              "      <td>10.0</td>\n",
              "      <td>Fixed wing multi engine</td>\n",
              "      <td>AIRBUS INDUSTRIE</td>\n",
              "      <td>A321-211</td>\n",
              "      <td>2.0</td>\n",
              "      <td>199.0</td>\n",
              "      <td>Turbo-jet</td>\n",
              "      <td>0.0</td>\n",
              "    </tr>\n",
              "    <tr>\n",
              "      <th>...</th>\n",
              "      <td>...</td>\n",
              "      <td>...</td>\n",
              "      <td>...</td>\n",
              "      <td>...</td>\n",
              "      <td>...</td>\n",
              "      <td>...</td>\n",
              "      <td>...</td>\n",
              "      <td>...</td>\n",
              "      <td>...</td>\n",
              "      <td>...</td>\n",
              "      <td>...</td>\n",
              "      <td>...</td>\n",
              "      <td>...</td>\n",
              "      <td>...</td>\n",
              "      <td>...</td>\n",
              "      <td>...</td>\n",
              "      <td>...</td>\n",
              "      <td>...</td>\n",
              "      <td>...</td>\n",
              "      <td>...</td>\n",
              "      <td>...</td>\n",
              "      <td>...</td>\n",
              "      <td>...</td>\n",
              "      <td>...</td>\n",
              "      <td>...</td>\n",
              "    </tr>\n",
              "    <tr>\n",
              "      <th>9995</th>\n",
              "      <td>UA</td>\n",
              "      <td>535</td>\n",
              "      <td>N525UA</td>\n",
              "      <td>JFK</td>\n",
              "      <td>LAX</td>\n",
              "      <td>323.0</td>\n",
              "      <td>2475</td>\n",
              "      <td>18</td>\n",
              "      <td>35</td>\n",
              "      <td>48.92</td>\n",
              "      <td>15.98</td>\n",
              "      <td>26.52</td>\n",
              "      <td>360.0</td>\n",
              "      <td>8.05546</td>\n",
              "      <td>NaN</td>\n",
              "      <td>0.0</td>\n",
              "      <td>1025.3</td>\n",
              "      <td>10.0</td>\n",
              "      <td>NaN</td>\n",
              "      <td>NaN</td>\n",
              "      <td>NaN</td>\n",
              "      <td>NaN</td>\n",
              "      <td>NaN</td>\n",
              "      <td>NaN</td>\n",
              "      <td>1.0</td>\n",
              "    </tr>\n",
              "    <tr>\n",
              "      <th>9996</th>\n",
              "      <td>DL</td>\n",
              "      <td>1147</td>\n",
              "      <td>N977DL</td>\n",
              "      <td>LGA</td>\n",
              "      <td>ATL</td>\n",
              "      <td>106.0</td>\n",
              "      <td>762</td>\n",
              "      <td>20</td>\n",
              "      <td>0</td>\n",
              "      <td>75.02</td>\n",
              "      <td>57.92</td>\n",
              "      <td>55.28</td>\n",
              "      <td>190.0</td>\n",
              "      <td>13.80936</td>\n",
              "      <td>NaN</td>\n",
              "      <td>0.0</td>\n",
              "      <td>1017.3</td>\n",
              "      <td>10.0</td>\n",
              "      <td>Fixed wing multi engine</td>\n",
              "      <td>MCDONNELL DOUGLAS AIRCRAFT CO</td>\n",
              "      <td>MD-88</td>\n",
              "      <td>2.0</td>\n",
              "      <td>142.0</td>\n",
              "      <td>Turbo-fan</td>\n",
              "      <td>1.0</td>\n",
              "    </tr>\n",
              "    <tr>\n",
              "      <th>9997</th>\n",
              "      <td>EV</td>\n",
              "      <td>4204</td>\n",
              "      <td>N12163</td>\n",
              "      <td>EWR</td>\n",
              "      <td>OKC</td>\n",
              "      <td>NaN</td>\n",
              "      <td>1325</td>\n",
              "      <td>20</td>\n",
              "      <td>9</td>\n",
              "      <td>37.04</td>\n",
              "      <td>33.98</td>\n",
              "      <td>88.57</td>\n",
              "      <td>240.0</td>\n",
              "      <td>9.20624</td>\n",
              "      <td>NaN</td>\n",
              "      <td>0.0</td>\n",
              "      <td>1017.0</td>\n",
              "      <td>9.0</td>\n",
              "      <td>Fixed wing multi engine</td>\n",
              "      <td>EMBRAER</td>\n",
              "      <td>EMB-145XR</td>\n",
              "      <td>2.0</td>\n",
              "      <td>55.0</td>\n",
              "      <td>Turbo-fan</td>\n",
              "      <td>NaN</td>\n",
              "    </tr>\n",
              "    <tr>\n",
              "      <th>9998</th>\n",
              "      <td>B6</td>\n",
              "      <td>431</td>\n",
              "      <td>N585JB</td>\n",
              "      <td>LGA</td>\n",
              "      <td>SRQ</td>\n",
              "      <td>146.0</td>\n",
              "      <td>1047</td>\n",
              "      <td>13</td>\n",
              "      <td>30</td>\n",
              "      <td>35.96</td>\n",
              "      <td>19.94</td>\n",
              "      <td>51.78</td>\n",
              "      <td>280.0</td>\n",
              "      <td>9.20624</td>\n",
              "      <td>18.41248</td>\n",
              "      <td>0.0</td>\n",
              "      <td>1016.9</td>\n",
              "      <td>10.0</td>\n",
              "      <td>Fixed wing multi engine</td>\n",
              "      <td>AIRBUS</td>\n",
              "      <td>A320-232</td>\n",
              "      <td>2.0</td>\n",
              "      <td>200.0</td>\n",
              "      <td>Turbo-fan</td>\n",
              "      <td>1.0</td>\n",
              "    </tr>\n",
              "    <tr>\n",
              "      <th>9999</th>\n",
              "      <td>B6</td>\n",
              "      <td>2302</td>\n",
              "      <td>N368JB</td>\n",
              "      <td>JFK</td>\n",
              "      <td>BUF</td>\n",
              "      <td>64.0</td>\n",
              "      <td>301</td>\n",
              "      <td>16</td>\n",
              "      <td>15</td>\n",
              "      <td>84.02</td>\n",
              "      <td>57.92</td>\n",
              "      <td>41.15</td>\n",
              "      <td>290.0</td>\n",
              "      <td>14.96014</td>\n",
              "      <td>NaN</td>\n",
              "      <td>0.0</td>\n",
              "      <td>1013.0</td>\n",
              "      <td>10.0</td>\n",
              "      <td>Fixed wing multi engine</td>\n",
              "      <td>EMBRAER</td>\n",
              "      <td>ERJ 190-100 IGW</td>\n",
              "      <td>2.0</td>\n",
              "      <td>20.0</td>\n",
              "      <td>Turbo-fan</td>\n",
              "      <td>0.0</td>\n",
              "    </tr>\n",
              "  </tbody>\n",
              "</table>\n",
              "<p>10000 rows × 25 columns</p>\n",
              "</div>"
            ],
            "text/plain": [
              "     carrier  flight tailnum origin  ... engines  seats     engine  arr_delay\n",
              "0         B6    1201  N643JB    JFK  ...     2.0  200.0  Turbo-fan        1.0\n",
              "1         DL    1773  N3743H    JFK  ...     2.0  189.0  Turbo-jet        0.0\n",
              "2         EV    4572  N11107    EWR  ...     2.0   55.0  Turbo-fan        1.0\n",
              "3         B6     179  N526JB    JFK  ...     NaN    NaN        NaN        1.0\n",
              "4         US    1733  N162UW    LGA  ...     2.0  199.0  Turbo-jet        0.0\n",
              "...      ...     ...     ...    ...  ...     ...    ...        ...        ...\n",
              "9995      UA     535  N525UA    JFK  ...     NaN    NaN        NaN        1.0\n",
              "9996      DL    1147  N977DL    LGA  ...     2.0  142.0  Turbo-fan        1.0\n",
              "9997      EV    4204  N12163    EWR  ...     2.0   55.0  Turbo-fan        NaN\n",
              "9998      B6     431  N585JB    LGA  ...     2.0  200.0  Turbo-fan        1.0\n",
              "9999      B6    2302  N368JB    JFK  ...     2.0   20.0  Turbo-fan        0.0\n",
              "\n",
              "[10000 rows x 25 columns]"
            ]
          },
          "metadata": {},
          "execution_count": 10
        }
      ]
    },
    {
      "cell_type": "code",
      "metadata": {
        "colab": {
          "base_uri": "https://localhost:8080/"
        },
        "id": "5o3N4Q20Z2g3",
        "outputId": "86e7f2c8-7070-46d8-fed3-73db3d1ab235"
      },
      "source": [
        "df.info()"
      ],
      "execution_count": 11,
      "outputs": [
        {
          "output_type": "stream",
          "name": "stdout",
          "text": [
            "<class 'pandas.core.frame.DataFrame'>\n",
            "RangeIndex: 10000 entries, 0 to 9999\n",
            "Data columns (total 25 columns):\n",
            " #   Column        Non-Null Count  Dtype  \n",
            "---  ------        --------------  -----  \n",
            " 0   carrier       10000 non-null  object \n",
            " 1   flight        10000 non-null  int64  \n",
            " 2   tailnum       9926 non-null   object \n",
            " 3   origin        10000 non-null  object \n",
            " 4   dest          10000 non-null  object \n",
            " 5   air_time      9716 non-null   float64\n",
            " 6   distance      10000 non-null  int64  \n",
            " 7   hour          10000 non-null  int64  \n",
            " 8   minute        10000 non-null  int64  \n",
            " 9   temp          9952 non-null   float64\n",
            " 10  dewp          9952 non-null   float64\n",
            " 11  humid         9952 non-null   float64\n",
            " 12  wind_dir      9731 non-null   float64\n",
            " 13  wind_speed    9951 non-null   float64\n",
            " 14  wind_gust     2387 non-null   float64\n",
            " 15  precip        9954 non-null   float64\n",
            " 16  pressure      8808 non-null   float64\n",
            " 17  visib         9954 non-null   float64\n",
            " 18  type          8499 non-null   object \n",
            " 19  manufacturer  8499 non-null   object \n",
            " 20  model         8499 non-null   object \n",
            " 21  engines       8499 non-null   float64\n",
            " 22  seats         8499 non-null   float64\n",
            " 23  engine        8499 non-null   object \n",
            " 24  arr_delay     9716 non-null   float64\n",
            "dtypes: float64(13), int64(4), object(8)\n",
            "memory usage: 1.9+ MB\n"
          ]
        }
      ]
    },
    {
      "cell_type": "markdown",
      "metadata": {
        "id": "anLT6XTEWjJR"
      },
      "source": [
        "#Analyze the data and create a processing pipeline."
      ]
    },
    {
      "cell_type": "code",
      "metadata": {
        "colab": {
          "base_uri": "https://localhost:8080/"
        },
        "id": "HOUeZYHMW8Yx",
        "outputId": "fb84a901-13bb-45a4-bdfc-4b1611fa8bff"
      },
      "source": [
        "#First we'll check for NA values\n",
        "df.isna().sum()"
      ],
      "execution_count": 4,
      "outputs": [
        {
          "output_type": "execute_result",
          "data": {
            "text/plain": [
              "carrier            0\n",
              "flight             0\n",
              "tailnum           74\n",
              "origin             0\n",
              "dest               0\n",
              "air_time         284\n",
              "distance           0\n",
              "hour               0\n",
              "minute             0\n",
              "temp              48\n",
              "dewp              48\n",
              "humid             48\n",
              "wind_dir         269\n",
              "wind_speed        49\n",
              "wind_gust       7613\n",
              "precip            46\n",
              "pressure        1192\n",
              "visib             46\n",
              "type            1501\n",
              "manufacturer    1501\n",
              "model           1501\n",
              "engines         1501\n",
              "seats           1501\n",
              "engine          1501\n",
              "arr_delay        284\n",
              "dtype: int64"
            ]
          },
          "metadata": {},
          "execution_count": 4
        }
      ]
    },
    {
      "cell_type": "markdown",
      "metadata": {
        "id": "MCs__CSNYeO0"
      },
      "source": [
        "Seems to have a solid amount of NA values, so an imputter will be needed."
      ]
    },
    {
      "cell_type": "markdown",
      "metadata": {
        "id": "10MJ_aJbY2yL"
      },
      "source": [
        "Now to check what our target column looks like"
      ]
    },
    {
      "cell_type": "code",
      "metadata": {
        "colab": {
          "base_uri": "https://localhost:8080/",
          "height": 281
        },
        "id": "QAjDRfFuY8OG",
        "outputId": "d00c275e-8029-42b0-cc44-055c3dbf6d5b"
      },
      "source": [
        "import matplotlib.pyplot as plt\n",
        "%matplotlib inline\n",
        "df.arr_delay.value_counts().plot.barh()\n",
        "plt.title('Arrival Delay')\n",
        "plt.show()"
      ],
      "execution_count": 7,
      "outputs": [
        {
          "output_type": "display_data",
          "data": {
            "image/png": "[encoded data removed]",
            "text/plain": [
              "<Figure size 432x288 with 1 Axes>"
            ]
          },
          "metadata": {
            "needs_background": "light"
          }
        }
      ]
    },
    {
      "cell_type": "markdown",
      "metadata": {
        "id": "1M7UDiL5ZWQ3"
      },
      "source": [
        "There's a minor amount of unbalance.\n",
        "\n",
        "Now I am going to check the cardinality of the data to see whether I need to modify my pipeline to take into account multicardinality issues"
      ]
    },
    {
      "cell_type": "code",
      "metadata": {
        "colab": {
          "base_uri": "https://localhost:8080/",
          "height": 432
        },
        "id": "T_KJfVZXZoc6",
        "outputId": "cbda8475-d522-4474-c4ec-c32fea5f4500"
      },
      "source": [
        "df.select_dtypes('object').nunique().sort_values().plot.barh()\n",
        "plt.title('Unique Values of Objects')\n",
        "plt.show()\n",
        "\n",
        "df.select_dtypes('object').nunique().sort_values()"
      ],
      "execution_count": 9,
      "outputs": [
        {
          "output_type": "display_data",
          "data": {
            "image/png": "[encoded data removed]",
            "text/plain": [
              "<Figure size 432x288 with 1 Axes>"
            ]
          },
          "metadata": {
            "needs_background": "light"
          }
        },
        {
          "output_type": "execute_result",
          "data": {
            "text/plain": [
              "origin             3\n",
              "type               3\n",
              "engine             6\n",
              "carrier           16\n",
              "manufacturer      28\n",
              "model             86\n",
              "dest             101\n",
              "tailnum         2795\n",
              "dtype: int64"
            ]
          },
          "metadata": {},
          "execution_count": 9
        }
      ]
    },
    {
      "cell_type": "markdown",
      "metadata": {
        "id": "nEJNhAbOaAaM"
      },
      "source": [
        "tailnum seems to be similar to an indexing variable so i will need to chop that off.\n",
        "\n",
        "Now to check the various numerical variables to see whether they are uniform or skewed"
      ]
    },
    {
      "cell_type": "code",
      "metadata": {
        "colab": {
          "base_uri": "https://localhost:8080/",
          "height": 879
        },
        "id": "6QX7MYrRaQc2",
        "outputId": "4000cbe2-70ed-4e6f-a839-bacd14293557"
      },
      "source": [
        "from matplotlib.pyplot import figure\n",
        "plt.rcParams[\"figure.figsize\"] = (15,15)\n",
        "df.select_dtypes(['int64','float64']).hist()\n",
        "plt.show()"
      ],
      "execution_count": 22,
      "outputs": [
        {
          "output_type": "display_data",
          "data": {
            "image/png": "[encoded data removed]",
            "text/plain": [
              "<Figure size 1080x1080 with 20 Axes>"
            ]
          },
          "metadata": {
            "needs_background": "light"
          }
        }
      ]
    },
    {
      "cell_type": "markdown",
      "metadata": {
        "id": "_v8mZv2tbDaW"
      },
      "source": [
        "wind speed, wind gust,flight, air time, and distance seem to be skewed in one way or another\n",
        "visibility seems to be mostly 10s\n",
        "There seems to be at most 2 engines in each plane most days seem to be clear"
      ]
    },
    {
      "cell_type": "markdown",
      "metadata": {
        "id": "E1y2SJynWpzW"
      },
      "source": [
        "#Fit a logistic regression, decision tree, and SVM using grid search."
      ]
    },
    {
      "cell_type": "code",
      "metadata": {
        "colab": {
          "base_uri": "https://localhost:8080/"
        },
        "id": "mGK00Esfbs2Z",
        "outputId": "73379df8-3940-4a38-e05d-81a715a03889"
      },
      "source": [
        "from sklearn.pipeline import Pipeline\n",
        "from sklearn.compose import ColumnTransformer\n",
        "from sklearn.impute import SimpleImputer\n",
        "from sklearn.preprocessing import OneHotEncoder\n",
        "from sklearn.preprocessing import StandardScaler\n",
        "#First grab all the columns and put em in lists\n",
        "nums = df.dtypes[df.dtypes != 'object'].index.tolist()\n",
        "cats = df.dtypes[df.dtypes == 'object'].index.tolist()\n",
        "\n",
        "#Now remove the columns I dont think I need\n",
        "cats = [x for x in cats if x not in ['tailnum']]\n",
        "\n",
        "num_pipeline = Pipeline([('impute_missing', SimpleImputer(strategy='median')),\n",
        "                           ('standardize_num', StandardScaler())\n",
        "                        ])\n",
        "\n",
        "cat_pipeline = Pipeline([('impute_missing_cats', SimpleImputer(strategy='most_frequent')),\n",
        "                          ('create_dummies_cats', OneHotEncoder(handle_unknown='ignore', drop='first'))])\n",
        "\n",
        "processing_pipeline = ColumnTransformer(transformers=[('proc_numeric', num_pipeline, nums),\n",
        "                                                      ('create_dummies', cat_pipeline, cats)])\n",
        "\n",
        "print('Pipeline Created')"
      ],
      "execution_count": 23,
      "outputs": [
        {
          "output_type": "stream",
          "name": "stdout",
          "text": [
            "Pipeline Created\n"
          ]
        }
      ]
    },
    {
      "cell_type": "markdown",
      "metadata": {
        "id": "7KmHXtWZcRFL"
      },
      "source": [
        "Splitting the data"
      ]
    },
    {
      "cell_type": "code",
      "metadata": {
        "colab": {
          "base_uri": "https://localhost:8080/"
        },
        "id": "MSvfncLjcNa9",
        "outputId": "01ac5fad-535d-4633-a8a2-9726a3505005"
      },
      "source": [
        "from sklearn.model_selection import train_test_split\n",
        "\n",
        "tX_train, tX_test, ty_train, ty_test = train_test_split(df[nums+cats], df[\"arr_delay\"], test_size=0.25)\n",
        "\n",
        "print(f'Training examples: {tX_train.shape[0]:,}')\n",
        "print(f'Test examples: {tX_test.shape[0]:,}')"
      ],
      "execution_count": 25,
      "outputs": [
        {
          "output_type": "stream",
          "name": "stdout",
          "text": [
            "Training examples: 7,500\n",
            "Test examples: 2,500\n"
          ]
        }
      ]
    },
    {
      "cell_type": "markdown",
      "metadata": {
        "id": "Sod16MxJc6ZV"
      },
      "source": [
        "Logistic Regression with grid search"
      ]
    },
    {
      "cell_type": "code",
      "metadata": {
        "colab": {
          "base_uri": "https://localhost:8080/",
          "height": 370
        },
        "id": "oZQ49WFqc4Tr",
        "outputId": "e42ebf3b-7889-4f85-b331-b65115dcaa60"
      },
      "source": [
        "from sklearn.linear_model import LogisticRegression\n",
        "from sklearn.model_selection import GridSearchCV\n",
        "from sklearn.pipeline import Pipeline\n",
        "\n",
        "p1 = Pipeline([('processing', processing_pipeline),\n",
        "             ('lr', LogisticRegression(solver='liblinear'))])\n",
        "\n",
        "#Select various correlation strengths with a magnitude of 10\n",
        "params = {'lr__C': [.001, 0.01, 0.1, 1, 10, 100]}\n",
        "\n",
        "#I will score based on accurancy as that the dataset is not heavily skewed\n",
        "lr_gscv = GridSearchCV(p1, param_grid=params, cv=10, scoring='accuracy', refit=True)\n",
        "lr_gscv = lr_gscv.fit(tX_train, ty_train)\n",
        "\n",
        "print(f'Validation score: {lr_gscv.best_score_:.2%}')\n",
        "\n",
        "lr_pred = lr_gscv.predict(tX_test)\n",
        "\n",
        "print(f'Test score: {lr_gscv.score(tX_test, ty_test):.2%}')"
      ],
      "execution_count": 26,
      "outputs": [
        {
          "output_type": "error",
          "ename": "ValueError",
          "evalue": "ignored",
          "traceback": [
            "\u001b[0;31m---------------------------------------------------------------------------\u001b[0m",
            "\u001b[0;31mValueError\u001b[0m                                Traceback (most recent call last)",
            "\u001b[0;32m<ipython-input-26-3c20808d9abd>\u001b[0m in \u001b[0;36m<module>\u001b[0;34m()\u001b[0m\n\u001b[1;32m     11\u001b[0m \u001b[0;31m#I will score based on accurancy as that the dataset is not heavily skewed\u001b[0m\u001b[0;34m\u001b[0m\u001b[0;34m\u001b[0m\u001b[0;34m\u001b[0m\u001b[0m\n\u001b[1;32m     12\u001b[0m \u001b[0mlr_gscv\u001b[0m \u001b[0;34m=\u001b[0m \u001b[0mGridSearchCV\u001b[0m\u001b[0;34m(\u001b[0m\u001b[0mp1\u001b[0m\u001b[0;34m,\u001b[0m \u001b[0mparam_grid\u001b[0m\u001b[0;34m=\u001b[0m\u001b[0mparams\u001b[0m\u001b[0;34m,\u001b[0m \u001b[0mcv\u001b[0m\u001b[0;34m=\u001b[0m\u001b[0;36m10\u001b[0m\u001b[0;34m,\u001b[0m \u001b[0mscoring\u001b[0m\u001b[0;34m=\u001b[0m\u001b[0;34m'accuracy'\u001b[0m\u001b[0;34m,\u001b[0m \u001b[0mrefit\u001b[0m\u001b[0;34m=\u001b[0m\u001b[0;32mTrue\u001b[0m\u001b[0;34m)\u001b[0m\u001b[0;34m\u001b[0m\u001b[0;34m\u001b[0m\u001b[0m\n\u001b[0;32m---> 13\u001b[0;31m \u001b[0mlr_gscv\u001b[0m \u001b[0;34m=\u001b[0m \u001b[0mlr_gscv\u001b[0m\u001b[0;34m.\u001b[0m\u001b[0mfit\u001b[0m\u001b[0;34m(\u001b[0m\u001b[0mtX_train\u001b[0m\u001b[0;34m,\u001b[0m \u001b[0mty_train\u001b[0m\u001b[0;34m)\u001b[0m\u001b[0;34m\u001b[0m\u001b[0;34m\u001b[0m\u001b[0m\n\u001b[0m\u001b[1;32m     14\u001b[0m \u001b[0;34m\u001b[0m\u001b[0m\n\u001b[1;32m     15\u001b[0m \u001b[0mprint\u001b[0m\u001b[0;34m(\u001b[0m\u001b[0;34mf'Validation score: {lr_gscv.best_score_:.2%}'\u001b[0m\u001b[0;34m)\u001b[0m\u001b[0;34m\u001b[0m\u001b[0;34m\u001b[0m\u001b[0m\n",
            "\u001b[0;32m/usr/local/lib/python3.7/dist-packages/sklearn/model_selection/_search.py\u001b[0m in \u001b[0;36mfit\u001b[0;34m(self, X, y, groups, **fit_params)\u001b[0m\n\u001b[1;32m    624\u001b[0m         \"\"\"\n\u001b[1;32m    625\u001b[0m         \u001b[0mestimator\u001b[0m \u001b[0;34m=\u001b[0m \u001b[0mself\u001b[0m\u001b[0;34m.\u001b[0m\u001b[0mestimator\u001b[0m\u001b[0;34m\u001b[0m\u001b[0;34m\u001b[0m\u001b[0m\n\u001b[0;32m--> 626\u001b[0;31m         \u001b[0mcv\u001b[0m \u001b[0;34m=\u001b[0m \u001b[0mcheck_cv\u001b[0m\u001b[0;34m(\u001b[0m\u001b[0mself\u001b[0m\u001b[0;34m.\u001b[0m\u001b[0mcv\u001b[0m\u001b[0;34m,\u001b[0m \u001b[0my\u001b[0m\u001b[0;34m,\u001b[0m \u001b[0mclassifier\u001b[0m\u001b[0;34m=\u001b[0m\u001b[0mis_classifier\u001b[0m\u001b[0;34m(\u001b[0m\u001b[0mestimator\u001b[0m\u001b[0;34m)\u001b[0m\u001b[0;34m)\u001b[0m\u001b[0;34m\u001b[0m\u001b[0;34m\u001b[0m\u001b[0m\n\u001b[0m\u001b[1;32m    627\u001b[0m \u001b[0;34m\u001b[0m\u001b[0m\n\u001b[1;32m    628\u001b[0m         scorers, self.multimetric_ = _check_multimetric_scoring(\n",
            "\u001b[0;32m/usr/local/lib/python3.7/dist-packages/sklearn/model_selection/_split.py\u001b[0m in \u001b[0;36mcheck_cv\u001b[0;34m(cv, y, classifier)\u001b[0m\n\u001b[1;32m   2003\u001b[0m     \u001b[0;32mif\u001b[0m \u001b[0misinstance\u001b[0m\u001b[0;34m(\u001b[0m\u001b[0mcv\u001b[0m\u001b[0;34m,\u001b[0m \u001b[0mnumbers\u001b[0m\u001b[0;34m.\u001b[0m\u001b[0mIntegral\u001b[0m\u001b[0;34m)\u001b[0m\u001b[0;34m:\u001b[0m\u001b[0;34m\u001b[0m\u001b[0;34m\u001b[0m\u001b[0m\n\u001b[1;32m   2004\u001b[0m         if (classifier and (y is not None) and\n\u001b[0;32m-> 2005\u001b[0;31m                 (type_of_target(y) in ('binary', 'multiclass'))):\n\u001b[0m\u001b[1;32m   2006\u001b[0m             \u001b[0;32mreturn\u001b[0m \u001b[0mStratifiedKFold\u001b[0m\u001b[0;34m(\u001b[0m\u001b[0mcv\u001b[0m\u001b[0;34m)\u001b[0m\u001b[0;34m\u001b[0m\u001b[0;34m\u001b[0m\u001b[0m\n\u001b[1;32m   2007\u001b[0m         \u001b[0;32melse\u001b[0m\u001b[0;34m:\u001b[0m\u001b[0;34m\u001b[0m\u001b[0;34m\u001b[0m\u001b[0m\n",
            "\u001b[0;32m/usr/local/lib/python3.7/dist-packages/sklearn/utils/multiclass.py\u001b[0m in \u001b[0;36mtype_of_target\u001b[0;34m(y)\u001b[0m\n\u001b[1;32m    282\u001b[0m     \u001b[0;32mif\u001b[0m \u001b[0my\u001b[0m\u001b[0;34m.\u001b[0m\u001b[0mdtype\u001b[0m\u001b[0;34m.\u001b[0m\u001b[0mkind\u001b[0m \u001b[0;34m==\u001b[0m \u001b[0;34m'f'\u001b[0m \u001b[0;32mand\u001b[0m \u001b[0mnp\u001b[0m\u001b[0;34m.\u001b[0m\u001b[0many\u001b[0m\u001b[0;34m(\u001b[0m\u001b[0my\u001b[0m \u001b[0;34m!=\u001b[0m \u001b[0my\u001b[0m\u001b[0;34m.\u001b[0m\u001b[0mastype\u001b[0m\u001b[0;34m(\u001b[0m\u001b[0mint\u001b[0m\u001b[0;34m)\u001b[0m\u001b[0;34m)\u001b[0m\u001b[0;34m:\u001b[0m\u001b[0;34m\u001b[0m\u001b[0;34m\u001b[0m\u001b[0m\n\u001b[1;32m    283\u001b[0m         \u001b[0;31m# [.1, .2, 3] or [[.1, .2, 3]] or [[1., .2]] and not [1., 2., 3.]\u001b[0m\u001b[0;34m\u001b[0m\u001b[0;34m\u001b[0m\u001b[0;34m\u001b[0m\u001b[0m\n\u001b[0;32m--> 284\u001b[0;31m         \u001b[0m_assert_all_finite\u001b[0m\u001b[0;34m(\u001b[0m\u001b[0my\u001b[0m\u001b[0;34m)\u001b[0m\u001b[0;34m\u001b[0m\u001b[0;34m\u001b[0m\u001b[0m\n\u001b[0m\u001b[1;32m    285\u001b[0m         \u001b[0;32mreturn\u001b[0m \u001b[0;34m'continuous'\u001b[0m \u001b[0;34m+\u001b[0m \u001b[0msuffix\u001b[0m\u001b[0;34m\u001b[0m\u001b[0;34m\u001b[0m\u001b[0m\n\u001b[1;32m    286\u001b[0m \u001b[0;34m\u001b[0m\u001b[0m\n",
            "\u001b[0;32m/usr/local/lib/python3.7/dist-packages/sklearn/utils/validation.py\u001b[0m in \u001b[0;36m_assert_all_finite\u001b[0;34m(X, allow_nan, msg_dtype)\u001b[0m\n\u001b[1;32m     58\u001b[0m                     \u001b[0mmsg_err\u001b[0m\u001b[0;34m.\u001b[0m\u001b[0mformat\u001b[0m\u001b[0;34m\u001b[0m\u001b[0;34m\u001b[0m\u001b[0m\n\u001b[1;32m     59\u001b[0m                     (type_err,\n\u001b[0;32m---> 60\u001b[0;31m                      msg_dtype if msg_dtype is not None else X.dtype)\n\u001b[0m\u001b[1;32m     61\u001b[0m             )\n\u001b[1;32m     62\u001b[0m     \u001b[0;31m# for object dtype data, we only check for NaNs (GH-13254)\u001b[0m\u001b[0;34m\u001b[0m\u001b[0;34m\u001b[0m\u001b[0;34m\u001b[0m\u001b[0m\n",
            "\u001b[0;31mValueError\u001b[0m: Input contains NaN, infinity or a value too large for dtype('float64')."
          ]
        }
      ]
    },
    {
      "cell_type": "markdown",
      "metadata": {
        "id": "-Rt1Xkzzd0se"
      },
      "source": [
        "Descision Trees"
      ]
    },
    {
      "cell_type": "code",
      "metadata": {
        "id": "tvENq38Kdz6b"
      },
      "source": [
        "\n",
        "from sklearn.tree import DecisionTreeClassifier\n",
        "from sklearn.model_selection import GridSearchCV\n",
        "from sklearn.pipeline import Pipeline\n",
        "\n",
        "p2 = Pipeline([('processing', processing_pipeline),\n",
        "             ('dt', DecisionTreeClassifier())])\n",
        "\n",
        "params = {'dt__max_depth': [1, 5, 10, 15, 25],\n",
        "         'dt__min_samples_split': [3, 10, 15]}\n",
        "\n",
        "dt_gscv = GridSearchCV(p2, param_grid=params, cv=10, scoring='accuracy', refit=True)\n",
        "dt_gscv = dt_gscv.fit(tX_train, ty_train)\n",
        "\n",
        "print(f'Validation score: {dt_gscv.best_score_:.2%}')\n",
        "\n",
        "dt_pred = dt_gscv.predict(tX_test)\n",
        "\n",
        "print(f'Test score: {dt_gscv.score(tX_test, ty_test):.2%}')"
      ],
      "execution_count": null,
      "outputs": []
    },
    {
      "cell_type": "markdown",
      "metadata": {
        "id": "V9wUS3bFd2ks"
      },
      "source": [
        "SVM"
      ]
    },
    {
      "cell_type": "code",
      "metadata": {
        "id": "Yg5rtfCPeStD"
      },
      "source": [
        "from sklearn.pipeline import Pipeline\n",
        "from sklearn.preprocessing import StandardScaler\n",
        "from sklearn.svm import SVC\n",
        "from sklearn.model_selection import GridSearchCV\n",
        "from sklearn.metrics import ConfusionMatrixDisplay\n",
        "\n",
        "svm_m = modeling_pipeline = Pipeline([('scaling', StandardScaler()),\n",
        "                                       ('model', SVC())])\n",
        "\n",
        "\n",
        "param_grid = [\n",
        "  {'model__C': [0.01, 0.1, 1, 10, 100, 1000], 'model__kernel': ['linear','rbf']}\n",
        " ]\n",
        "\n",
        "svm_results = GridSearchCV(estimator=svm_m, param_grid=param_grid, cv=10, scoring='accuracy', refit=True)\n",
        "svm_results = svm_results.fit(dX_train, dy_train)\n",
        "\n",
        "print(f'Validation score: {svm_results.best_score_:.2%}')\n",
        "\n",
        "svm_pred = svm_results.predict(tX_test)\n",
        "\n",
        "print(f'Test score: {svm_results.score(tX_test, ty_test):.2%}')"
      ],
      "execution_count": null,
      "outputs": []
    },
    {
      "cell_type": "markdown",
      "metadata": {
        "id": "YSJHarB0WsKt"
      },
      "source": [
        "#Discuss the performance of each model."
      ]
    },
    {
      "cell_type": "markdown",
      "metadata": {
        "id": "PRbsFiCyWuyD"
      },
      "source": [
        "#Fit an ensemble using the three above models. Does this improvement performance?"
      ]
    },
    {
      "cell_type": "code",
      "metadata": {
        "id": "VGRkOMP4fzyh"
      },
      "source": [
        "\n",
        "from sklearn.model_selection import cross_val_score\n",
        "from sklearn.linear_model import LogisticRegression\n",
        "from sklearn.tree import DecisionTreeClassifier\n",
        "from sklearn import svm\n",
        "from sklearn.pipeline import Pipeline\n",
        "import numpy as np\n",
        "\n",
        "clf1 = LogisticRegression(penalty='l2', C=0.001, solver='lbfgs', random_state=0)\n",
        "clf2 = DecisionTreeClassifier(max_depth=1, criterion='entropy', random_state=1)\n",
        "clf3 = svm.SVC()\n",
        "\n",
        "pipe1 = Pipeline([('scaler', StandardScaler()),('logreg', clf1)])\n",
        "pipe2 = Pipeline([('scaler', StandardScaler()),('tree', clf2)])\n",
        "pipe3 = Pipeline([('scaler', StandardScaler()),('svm', clf3)])\n",
        "\n",
        "labs = ['Logistic Regression', 'Decision Tree', 'Support Vector Machine']\n",
        "clfs = [pipe1, pipe2, pipe3]\n",
        "clfs = zip(labs, clfs)\n",
        "\n",
        "for lab, clf in clfs:\n",
        "    scores = cross_val_score(estimator=clf, X=X_train, y=y_train, cv=10, scoring='accuracy')\n",
        "    print(f'Accuracy {scores.mean():.2f} (+/- {scores.std():.2f}) [{lab}]')"
      ],
      "execution_count": null,
      "outputs": []
    },
    {
      "cell_type": "code",
      "metadata": {
        "id": "V9IYo87af1Gy"
      },
      "source": [
        "from sklearn.ensemble import VotingClassifier\n",
        "\n",
        "ems = [('lr', pipe1),('dt', pipe2),('svm', pipe3)]\n",
        "clf4 = VotingClassifier(estimators= ems, weights=None, voting='soft')\n",
        "\n",
        "scores = cross_val_score(estimator=clf4, X=X_train, y=y_train, cv=10, scoring='accuracy')\n",
        "print(f'Accuracy {scores.mean():.2f} (+/- {scores.std():.2f}) [Ensemble]')"
      ],
      "execution_count": null,
      "outputs": []
    },
    {
      "cell_type": "markdown",
      "metadata": {
        "id": "keKp6R4gWyiz"
      },
      "source": [
        "#Fit a model using AdaBoost. Does this improve performance?"
      ]
    },
    {
      "cell_type": "markdown",
      "metadata": {
        "id": "qYwmGU3td7-c"
      },
      "source": [
        "ADA BOOST"
      ]
    },
    {
      "cell_type": "code",
      "metadata": {
        "id": "As3EEQHDd7Kp"
      },
      "source": [
        "from sklearn.ensemble import AdaBoostClassifier\n",
        "from sklearn.tree import DecisionTreeClassifier\n",
        "from sklearn.model_selection import GridSearchCV\n",
        "from sklearn.pipeline import Pipeline\n",
        "\n",
        "# multi-step pipelines don't play as nice with AdaBoost\n",
        "xt = processing_pipeline.fit_transform(tX_train)\n",
        "\n",
        "params = {'base_estimator__max_depth': [1,2],\n",
        "         'n_estimators': [50, 100, 200, 400]\n",
        "         }\n",
        "\n",
        "#ABC = AdaBoostClassifier(base_estimator=p2)\n",
        "ABC = AdaBoostClassifier(DecisionTreeClassifier())\n",
        "\n",
        "\n",
        "ad_gscv = GridSearchCV(ABC, param_grid = params, cv=10, scoring='accuracy')\n",
        "           \n",
        "ad_gscv = ad_gscv.fit(xt, ty_train)\n",
        "\n",
        "print(f'Validation score: {ad_gscv.best_score_:.2%}')\n",
        "\n",
        "xtt = processing_pipeline.transform(tX_test)\n",
        "\n",
        "ad_pred = ad_gscv.predict(xtt)\n",
        "\n",
        "print(f'Test score: {ad_gscv.score(xtt, ty_test):.2%}')"
      ],
      "execution_count": null,
      "outputs": []
    }
  ]
}